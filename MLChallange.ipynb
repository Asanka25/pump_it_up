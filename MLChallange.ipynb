{
 "cells": [
  {
   "cell_type": "markdown",
   "id": "91d96d3a",
   "metadata": {},
   "source": [
    "### This notebook is used to evaluate models"
   ]
  },
  {
   "cell_type": "code",
   "execution_count": 262,
   "id": "468dfaee",
   "metadata": {},
   "outputs": [],
   "source": [
    "import pandas as pd\n",
    "import matplotlib.pyplot as plt\n",
    "import seaborn as sns\n",
    "import numpy as np\n",
    "from sklearn.ensemble import RandomForestClassifier\n",
    "from sklearn.tree import DecisionTreeClassifier\n",
    "from sklearn.neighbors import KNeighborsClassifier\n",
    "from mlxtend.feature_selection import SequentialFeatureSelector as SFS\n",
    "from mlxtend.plotting import plot_sequential_feature_selection as plot_sfs\n",
    "from sklearn.model_selection import KFold\n",
    "from sklearn.preprocessing import StandardScaler\n",
    "from sklearn import metrics                           \n",
    "from catboost import CatBoostClassifier\n",
    "from sklearn.model_selection import cross_val_score\n",
    "from sklearn.preprocessing import LabelEncoder\n",
    "from sklearn.cluster import KMeans"
   ]
  },
  {
   "cell_type": "markdown",
   "id": "98db0c98",
   "metadata": {},
   "source": [
    "#### Importing data"
   ]
  },
  {
   "cell_type": "code",
   "execution_count": 281,
   "id": "a6981bcb",
   "metadata": {},
   "outputs": [],
   "source": [
    "tr_val=pd.read_csv(\"data/train_values.csv\") #train_values\n",
    "\n",
    "tr_labels=pd.read_csv(\"data/train_labels.csv\",usecols=[\"status_group\"]) #train_values  59,400\n",
    "train=pd.concat([tr_val, tr_labels], axis=1) # train\n",
    "\n",
    "test=pd.read_csv(\"data/test_values.csv\") #test_values 14,850\n",
    "\n",
    "df_all= pd.concat([train, test]).reset_index(drop=True) #concatinating train and test data frames  "
   ]
  },
  {
   "cell_type": "markdown",
   "id": "d03c00e0",
   "metadata": {},
   "source": [
    "Eventhough spliting date_recorded gives three column it didn't contribute to any accuracy gain "
   ]
  },
  {
   "cell_type": "code",
   "execution_count": 282,
   "id": "3f9dc26d",
   "metadata": {},
   "outputs": [],
   "source": [
    "# df_all['date_recorded']= pd.to_datetime(df_all['date_recorded'],format='%Y-%m-%d') #changing the datatype of the date_recorded feature\n",
    "# df_all['ryear'] = pd.DatetimeIndex(df_all['date_recorded']).year  #split date column to year, month , and day\n",
    "# df_all['rmonth'] = pd.DatetimeIndex(df_all['date_recorded']).month\n",
    "# df_all['rday'] = pd.DatetimeIndex(df_all['date_recorded']).day  "
   ]
  },
  {
   "cell_type": "markdown",
   "id": "1e5d09d6",
   "metadata": {},
   "source": [
    "#### Below features were selected from Sequential feature selection"
   ]
  },
  {
   "cell_type": "code",
   "execution_count": 283,
   "id": "aa5d9d77",
   "metadata": {},
   "outputs": [],
   "source": [
    "features_set1=['amount_tsh', 'funder', 'gps_height', 'installer', 'longitude',\n",
    "       'latitude', 'wpt_name', 'basin', 'subvillage', 'region',\n",
    "       'district_code', 'lga', 'ward', 'population', 'scheme_management',\n",
    "       'construction_year', 'extraction_type', 'extraction_type_group',\n",
    "       'extraction_type_class', 'management_group', 'payment', 'water_quality',\n",
    "       'quality_group', 'quantity', 'source', 'source_class',\n",
    "       'waterpoint_type','ryear','rmonth','rday','status_group']\n",
    "                                                                #These feature set was selected from SFS only using label \n",
    "                                                                # encoding and filling missing numerical missing by -1\n",
    "                                                                # and cat ones by 'missing' submission score= 82.2340\n",
    "\n",
    "features_set2=['amount_tsh', 'funder', 'gps_height', 'installer', 'longitude',\n",
    "       'latitude', 'basin', 'region', 'district_code', 'lga', 'ward',\n",
    "       'population', 'public_meeting', 'permit', 'construction_year',\n",
    "       'extraction_type_group', 'management', 'payment', 'water_quality',\n",
    "       'quantity', 'source', 'waterpoint_type','status_group']\n",
    "                                                                # These feature set was selected from SFS,and droped some columns \n",
    "                                                                # using the insights got from Exploratory analysis,label \n",
    "                                                                # encoding used and filled missing numerical missing by mean\n",
    "                                                                # and categorical ones by most frequent and \"Unkown\" values submission score= 81.29"
   ]
  },
  {
   "cell_type": "code",
   "execution_count": 284,
   "id": "5f81d0f3",
   "metadata": {},
   "outputs": [],
   "source": [
    "# df=df_all[features_set1]\n",
    "df=df_all[features_set2]"
   ]
  },
  {
   "cell_type": "markdown",
   "id": "271ca325",
   "metadata": {},
   "source": [
    "#### Dealing with missing values"
   ]
  },
  {
   "cell_type": "code",
   "execution_count": 285,
   "id": "13773935",
   "metadata": {
    "scrolled": true
   },
   "outputs": [
    {
     "data": {
      "text/plain": [
       "scheme_name              35258\n",
       "status_group             14850\n",
       "scheme_management         4846\n",
       "installer                 4532\n",
       "funder                    4504\n",
       "public_meeting            4155\n",
       "permit                    3793\n",
       "subvillage                 470\n",
       "latitude                     0\n",
       "quantity                     0\n",
       "management                   0\n",
       "management_group             0\n",
       "payment                      0\n",
       "payment_type                 0\n",
       "water_quality                0\n",
       "quality_group                0\n",
       "quantity_group               0\n",
       "extraction_type_group        0\n",
       "source                       0\n",
       "source_type                  0\n",
       "source_class                 0\n",
       "waterpoint_type              0\n",
       "waterpoint_type_group        0\n",
       "extraction_type_class        0\n",
       "extraction_type              0\n",
       "wpt_name                     0\n",
       "construction_year            0\n",
       "gps_height                   0\n",
       "date_recorded                0\n",
       "amount_tsh                   0\n",
       "recorded_by                  0\n",
       "longitude                    0\n",
       "population                   0\n",
       "ward                         0\n",
       "lga                          0\n",
       "district_code                0\n",
       "region_code                  0\n",
       "region                       0\n",
       "basin                        0\n",
       "num_private                  0\n",
       "id                           0\n",
       "dtype: int64"
      ]
     },
     "execution_count": 285,
     "metadata": {},
     "output_type": "execute_result"
    }
   ],
   "source": [
    "df_all.isna().sum().sort_values(ascending=False)#misssing values"
   ]
  },
  {
   "cell_type": "markdown",
   "id": "78e6e6c3",
   "metadata": {},
   "source": [
    "#### filling 0 and null values in funder and installer with \"Unknown\""
   ]
  },
  {
   "cell_type": "code",
   "execution_count": 286,
   "id": "7859d5f0",
   "metadata": {},
   "outputs": [
    {
     "name": "stderr",
     "output_type": "stream",
     "text": [
      "C:\\Users\\CSE\\anaconda3\\envs\\tf\\lib\\site-packages\\pandas\\core\\generic.py:6383: SettingWithCopyWarning: \n",
      "A value is trying to be set on a copy of a slice from a DataFrame\n",
      "\n",
      "See the caveats in the documentation: https://pandas.pydata.org/pandas-docs/stable/user_guide/indexing.html#returning-a-view-versus-a-copy\n",
      "  return self._update_inplace(result)\n",
      "C:\\Users\\CSE\\anaconda3\\envs\\tf\\lib\\site-packages\\pandas\\core\\generic.py:6610: SettingWithCopyWarning: \n",
      "A value is trying to be set on a copy of a slice from a DataFrame\n",
      "\n",
      "See the caveats in the documentation: https://pandas.pydata.org/pandas-docs/stable/user_guide/indexing.html#returning-a-view-versus-a-copy\n",
      "  return self._update_inplace(result)\n"
     ]
    }
   ],
   "source": [
    "df['funder'].fillna(value='Unknown',inplace=True)\n",
    "df['funder'].replace(to_replace = '0', value ='Unknown' , inplace=True)"
   ]
  },
  {
   "cell_type": "code",
   "execution_count": 287,
   "id": "d3f09363",
   "metadata": {},
   "outputs": [],
   "source": [
    "df['installer'].fillna(value='Unknown',inplace=True)  \n",
    "df['installer'].replace(to_replace = '0', value ='Unknown' , inplace=True) "
   ]
  },
  {
   "cell_type": "code",
   "execution_count": 288,
   "id": "7eb8ba9e",
   "metadata": {},
   "outputs": [],
   "source": [
    "# Correcting spelling errors\n",
    "df['installer'].replace(to_replace = ('Unisef','UNICEF'),value ='Unicef' , inplace=True)\n",
    "df['installer'].replace(to_replace = 'DANID', value ='DANIDA' , inplace=True)\n",
    "df['installer'].replace(to_replace = ( 'villager', 'Villagers','villigers', 'Villa', 'Village', 'Villi', \n",
    "                                      'Village Council','Village Counil',  'Vill','Villages', 'Village community', \n",
    "                                      'Villaers', 'Village Community', 'Villag','Villege Council', 'Village council',\n",
    "                                      'Village Technician','Village  Council','Villagerd', 'Villager',\n",
    "                                      'Village Office','Village community members'),\n",
    "                                        value ='villagers' , inplace=True)\n",
    "df['installer'].replace(to_replace =('COMMU','Commu','Communit','commu', 'COMMUNITY') ,\n",
    "                                        value ='Community' , inplace=True)\n",
    "df['installer'].replace(to_replace = ( 'GOVER', 'GOVERNME','GOVERNMENT', 'GOVERM','GOVERN','Gover','Gove',\n",
    "                                      'Governme','Governmen' ) ,value ='Government' , inplace=True)\n",
    "df['installer'].replace(to_replace = 'Hesawa' ,value ='HESAWA' , inplace=True)\n",
    "df['installer'].replace(to_replace = ('Colonial Government') , value ='Colonial government' , inplace=True)\n",
    "df['installer'].replace(to_replace = ('Government of Misri') , value ='Misri Government' , inplace=True)\n",
    "df['installer'].replace(to_replace = ('Italy government') , value ='Italian government' , inplace=True)\n",
    "df['installer'].replace(to_replace = ('British colonial government') , value ='British government' , inplace=True)\n",
    "df['installer'].replace(to_replace = ('Concern /government') , value ='Concern/Government' , inplace=True)\n",
    "df['installer'].replace(to_replace = ('District Water Department', 'District water depar','Distric Water Department'),\n",
    "                        value ='District water department' , inplace=True)\n",
    "df['installer'].replace(to_replace = ('FinW','Fini water','FINI WATER'), value ='Fini Water' , inplace=True)\n",
    "df['installer'].replace(to_replace = 'JAICA', value ='Jaica' , inplace=True)\n",
    "df['installer'].replace(to_replace = ( 'District COUNCIL','COUN', 'DISTRICT COUNCIL', \n",
    "                                      'District Council','District Counci','Council','Counc','District  Council','Distri'),\n",
    "                                    value ='District council' , inplace=True)\n",
    "df['installer'].replace(to_replace = ( 'RC Churc', 'RC CHURCH','RC','RC C','RC Ch', 'RC CH','RC church', \n",
    "                                      'RC CATHORIC',) , value ='RC Church' , inplace=True)\n",
    "df['installer'].replace(to_replace = ('Tanzanian Government','Tanzania Government','Central Government',\n",
    "                                       'central government','Cental Government','Cebtral Government',\n",
    "                                       'Centra Government' ,'CENTRAL GOVERNMENT', 'TANZANIAN GOVERNMENT','Central govt', 'Centr', \n",
    "                                      'Tanzania government','Centra govt') , value ='Central government' , inplace=True)\n",
    "df['installer'].replace(to_replace = ('World vision', 'World Division','World Vision'),\n",
    "                                        value ='world vision' , inplace=True)\n",
    "\n",
    "df['installer'].replace(to_replace = ('Cetral government /RC') , value ='RC church/Central Gover' , inplace=True)\n",
    "df['installer'].replace(to_replace = ('Government /TCRS','Government/TCRS') , value ='TCRS /Government' , inplace=True)\n",
    "df['installer'].replace(to_replace = ('Village Government') , value ='Village government' , inplace=True)\n",
    "df['installer'].replace(to_replace = ('Government and Community') , value ='Government /Community' , inplace=True)\n",
    "df['installer'].replace(to_replace = ('ADRA /Government') , value ='ADRA/Government' , inplace=True)"
   ]
  },
  {
   "cell_type": "code",
   "execution_count": 289,
   "id": "be7114a3",
   "metadata": {},
   "outputs": [
    {
     "data": {
      "text/plain": [
       "['amount_tsh',\n",
       " 'gps_height',\n",
       " 'longitude',\n",
       " 'latitude',\n",
       " 'district_code',\n",
       " 'population',\n",
       " 'construction_year']"
      ]
     },
     "execution_count": 289,
     "metadata": {},
     "output_type": "execute_result"
    }
   ],
   "source": [
    "num_cols = list(df.select_dtypes('number').columns)\n",
    "num_cols"
   ]
  },
  {
   "cell_type": "code",
   "execution_count": 290,
   "id": "ef7fbce1",
   "metadata": {},
   "outputs": [],
   "source": [
    "cat_cols = list(df.select_dtypes('object').columns)\n",
    "cat_cols.remove('status_group') #remove target column from categorical columns"
   ]
  },
  {
   "cell_type": "markdown",
   "id": "effe7f79",
   "metadata": {},
   "source": [
    "#### Filling missing numerical values by mean(if any)"
   ]
  },
  {
   "cell_type": "code",
   "execution_count": 291,
   "id": "48cb798c",
   "metadata": {},
   "outputs": [],
   "source": [
    "for col in num_cols:\n",
    "#     df[col].fillna(value=-1,inplace=True) #fill using -1\n",
    "    df[col].fillna(df[col].mean(), inplace=True)  #fill using column mean "
   ]
  },
  {
   "cell_type": "markdown",
   "id": "8b9231fe",
   "metadata": {},
   "source": [
    "#### Filling missing categorical values bymost frequent category (if any)"
   ]
  },
  {
   "cell_type": "code",
   "execution_count": 292,
   "id": "d686037e",
   "metadata": {},
   "outputs": [
    {
     "name": "stderr",
     "output_type": "stream",
     "text": [
      "C:\\Users\\CSE\\anaconda3\\envs\\tf\\lib\\site-packages\\pandas\\core\\frame.py:3607: SettingWithCopyWarning: \n",
      "A value is trying to be set on a copy of a slice from a DataFrame.\n",
      "Try using .loc[row_indexer,col_indexer] = value instead\n",
      "\n",
      "See the caveats in the documentation: https://pandas.pydata.org/pandas-docs/stable/user_guide/indexing.html#returning-a-view-versus-a-copy\n",
      "  self._set_item(key, value)\n"
     ]
    }
   ],
   "source": [
    "for col in (cat_cols):\n",
    "#     df[col] = df[col].fillna(value='missing')\n",
    "    df[col] = df[col].fillna(df[col].value_counts().index[0])\n"
   ]
  },
  {
   "cell_type": "markdown",
   "id": "5374190c",
   "metadata": {},
   "source": [
    "#### Label encoding"
   ]
  },
  {
   "cell_type": "code",
   "execution_count": 293,
   "id": "4cc8a3b4",
   "metadata": {},
   "outputs": [],
   "source": [
    "labelencoder = LabelEncoder()\n",
    "from category_encoders import OrdinalEncoder as oe\n",
    "for col in (cat_cols):\n",
    "    df[col]=labelencoder.fit_transform(df[col])\n"
   ]
  },
  {
   "cell_type": "code",
   "execution_count": 294,
   "id": "b0134266",
   "metadata": {},
   "outputs": [],
   "source": [
    "#### Get some insight about correlation with target value"
   ]
  },
  {
   "cell_type": "code",
   "execution_count": 295,
   "id": "0fb56bee",
   "metadata": {},
   "outputs": [],
   "source": [
    "# corr=df[:59400].corr()[\"status_group\"].sort_values(ascending=False)\n",
    "# print((corr[:]))"
   ]
  },
  {
   "cell_type": "markdown",
   "id": "0ed1e203",
   "metadata": {},
   "source": [
    "### Graphs used to analyze outliers"
   ]
  },
  {
   "cell_type": "code",
   "execution_count": 321,
   "id": "55d0ed4d",
   "metadata": {},
   "outputs": [],
   "source": [
    "plt.style.use(\"seaborn-whitegrid\")\n",
    "plt.rc(\"figure\", autolayout=True)\n",
    "plt.rc(\n",
    "    \"axes\",\n",
    "    labelweight=\"bold\",\n",
    "    labelsize=\"large\",\n",
    "    titleweight=\"bold\",\n",
    "    titlesize=14,\n",
    "    titlepad=10,\n",
    ")"
   ]
  },
  {
   "cell_type": "code",
   "execution_count": 323,
   "id": "437fbdf7",
   "metadata": {},
   "outputs": [
    {
     "data": {
      "image/png": "[encoded data removed]",
      "text/plain": [
       "<Figure size 569.875x432 with 1 Axes>"
      ]
     },
     "metadata": {},
     "output_type": "display_data"
    }
   ],
   "source": [
    "sns.relplot(\n",
    "    x=\"longitude\", y=\"latitude\", hue=\"status_group\", data=df, height=6,\n",
    ");"
   ]
  },
  {
   "cell_type": "code",
   "execution_count": 324,
   "id": "e729c359",
   "metadata": {},
   "outputs": [
    {
     "data": {
      "image/png": "[encoded data removed]",
      "text/plain": [
       "<Figure size 432x288 with 1 Axes>"
      ]
     },
     "metadata": {},
     "output_type": "display_data"
    }
   ],
   "source": [
    "ax = sns.boxplot(x=df['gps_height'])"
   ]
  },
  {
   "cell_type": "code",
   "execution_count": 328,
   "id": "e8d890ce",
   "metadata": {},
   "outputs": [
    {
     "data": {
      "image/png": "[encoded data removed]",
      "text/plain": [
       "<Figure size 432x288 with 1 Axes>"
      ]
     },
     "metadata": {},
     "output_type": "display_data"
    }
   ],
   "source": [
    "ax = sns.boxplot(x=df['population'])"
   ]
  },
  {
   "cell_type": "code",
   "execution_count": 326,
   "id": "3f5e3c7a",
   "metadata": {},
   "outputs": [
    {
     "data": {
      "image/png": "[encoded data removed]",
      "text/plain": [
       "<Figure size 432x288 with 1 Axes>"
      ]
     },
     "metadata": {},
     "output_type": "display_data"
    }
   ],
   "source": [
    "ax = sns.boxplot(x=df['ward'])"
   ]
  },
  {
   "cell_type": "markdown",
   "id": "e8322e07",
   "metadata": {},
   "source": [
    "#### Scaling the selected features before create PCA feature"
   ]
  },
  {
   "cell_type": "code",
   "execution_count": 303,
   "id": "5543b116",
   "metadata": {},
   "outputs": [
    {
     "data": {
      "text/html": [
       "<div>\n",
       "<style scoped>\n",
       "    .dataframe tbody tr th:only-of-type {\n",
       "        vertical-align: middle;\n",
       "    }\n",
       "\n",
       "    .dataframe tbody tr th {\n",
       "        vertical-align: top;\n",
       "    }\n",
       "\n",
       "    .dataframe thead th {\n",
       "        text-align: right;\n",
       "    }\n",
       "</style>\n",
       "<table border=\"1\" class=\"dataframe\">\n",
       "  <thead>\n",
       "    <tr style=\"text-align: right;\">\n",
       "      <th></th>\n",
       "      <th>amount_tsh</th>\n",
       "      <th>funder</th>\n",
       "      <th>gps_height</th>\n",
       "      <th>installer</th>\n",
       "      <th>longitude</th>\n",
       "      <th>latitude</th>\n",
       "      <th>basin</th>\n",
       "      <th>region</th>\n",
       "      <th>district_code</th>\n",
       "      <th>lga</th>\n",
       "      <th>...</th>\n",
       "      <th>public_meeting</th>\n",
       "      <th>permit</th>\n",
       "      <th>construction_year</th>\n",
       "      <th>extraction_type_group</th>\n",
       "      <th>management</th>\n",
       "      <th>payment</th>\n",
       "      <th>water_quality</th>\n",
       "      <th>quantity</th>\n",
       "      <th>source</th>\n",
       "      <th>waterpoint_type</th>\n",
       "    </tr>\n",
       "  </thead>\n",
       "  <tbody>\n",
       "    <tr>\n",
       "      <th>0</th>\n",
       "      <td>1.954529</td>\n",
       "      <td>0.767624</td>\n",
       "      <td>1.045581</td>\n",
       "      <td>1.100841</td>\n",
       "      <td>0.131432</td>\n",
       "      <td>-1.410738</td>\n",
       "      <td>-1.248926</td>\n",
       "      <td>-1.153202</td>\n",
       "      <td>-0.065246</td>\n",
       "      <td>-0.256009</td>\n",
       "      <td>...</td>\n",
       "      <td>0.305705</td>\n",
       "      <td>-1.548552</td>\n",
       "      <td>0.735593</td>\n",
       "      <td>-0.836318</td>\n",
       "      <td>-0.130260</td>\n",
       "      <td>-0.138378</td>\n",
       "      <td>0.273091</td>\n",
       "      <td>-0.405719</td>\n",
       "      <td>0.951664</td>\n",
       "      <td>-0.884097</td>\n",
       "    </tr>\n",
       "    <tr>\n",
       "      <th>1</th>\n",
       "      <td>-0.109637</td>\n",
       "      <td>-0.747861</td>\n",
       "      <td>1.058572</td>\n",
       "      <td>-0.488058</td>\n",
       "      <td>0.095018</td>\n",
       "      <td>1.206916</td>\n",
       "      <td>-0.035157</td>\n",
       "      <td>-0.141830</td>\n",
       "      <td>-0.376399</td>\n",
       "      <td>1.218788</td>\n",
       "      <td>...</td>\n",
       "      <td>0.305705</td>\n",
       "      <td>0.645764</td>\n",
       "      <td>0.747143</td>\n",
       "      <td>-0.836318</td>\n",
       "      <td>1.821369</td>\n",
       "      <td>-1.019824</td>\n",
       "      <td>0.273091</td>\n",
       "      <td>0.839667</td>\n",
       "      <td>-0.521454</td>\n",
       "      <td>-0.884097</td>\n",
       "    </tr>\n",
       "    <tr>\n",
       "      <th>2</th>\n",
       "      <td>-0.101036</td>\n",
       "      <td>-0.154075</td>\n",
       "      <td>0.029350</td>\n",
       "      <td>2.087817</td>\n",
       "      <td>0.515240</td>\n",
       "      <td>0.638531</td>\n",
       "      <td>0.369433</td>\n",
       "      <td>-0.310392</td>\n",
       "      <td>-0.168964</td>\n",
       "      <td>1.360596</td>\n",
       "      <td>...</td>\n",
       "      <td>0.305705</td>\n",
       "      <td>0.645764</td>\n",
       "      <td>0.746093</td>\n",
       "      <td>-0.836318</td>\n",
       "      <td>-0.130260</td>\n",
       "      <td>0.743068</td>\n",
       "      <td>0.273091</td>\n",
       "      <td>-0.405719</td>\n",
       "      <td>-2.976652</td>\n",
       "      <td>-0.323107</td>\n",
       "    </tr>\n",
       "    <tr>\n",
       "      <th>3</th>\n",
       "      <td>-0.109637</td>\n",
       "      <td>1.377658</td>\n",
       "      <td>-0.581254</td>\n",
       "      <td>1.670307</td>\n",
       "      <td>0.671269</td>\n",
       "      <td>-1.851824</td>\n",
       "      <td>1.178612</td>\n",
       "      <td>0.363855</td>\n",
       "      <td>5.950371</td>\n",
       "      <td>0.765005</td>\n",
       "      <td>...</td>\n",
       "      <td>0.305705</td>\n",
       "      <td>0.645764</td>\n",
       "      <td>0.721942</td>\n",
       "      <td>1.714363</td>\n",
       "      <td>-0.130260</td>\n",
       "      <td>-1.019824</td>\n",
       "      <td>0.273091</td>\n",
       "      <td>-1.651105</td>\n",
       "      <td>-1.503533</td>\n",
       "      <td>-0.323107</td>\n",
       "    </tr>\n",
       "    <tr>\n",
       "      <th>4</th>\n",
       "      <td>-0.109637</td>\n",
       "      <td>-1.489355</td>\n",
       "      <td>-0.960897</td>\n",
       "      <td>-1.137191</td>\n",
       "      <td>-0.447840</td>\n",
       "      <td>1.316292</td>\n",
       "      <td>-0.035157</td>\n",
       "      <td>-0.984640</td>\n",
       "      <td>-0.480117</td>\n",
       "      <td>-0.965046</td>\n",
       "      <td>...</td>\n",
       "      <td>0.305705</td>\n",
       "      <td>0.645764</td>\n",
       "      <td>-1.363441</td>\n",
       "      <td>-0.836318</td>\n",
       "      <td>-3.057703</td>\n",
       "      <td>-1.019824</td>\n",
       "      <td>0.273091</td>\n",
       "      <td>2.085053</td>\n",
       "      <td>-0.521454</td>\n",
       "      <td>-0.884097</td>\n",
       "    </tr>\n",
       "  </tbody>\n",
       "</table>\n",
       "<p>5 rows × 22 columns</p>\n",
       "</div>"
      ],
      "text/plain": [
       "   amount_tsh    funder  gps_height  installer  longitude  latitude     basin  \\\n",
       "0    1.954529  0.767624    1.045581   1.100841   0.131432 -1.410738 -1.248926   \n",
       "1   -0.109637 -0.747861    1.058572  -0.488058   0.095018  1.206916 -0.035157   \n",
       "2   -0.101036 -0.154075    0.029350   2.087817   0.515240  0.638531  0.369433   \n",
       "3   -0.109637  1.377658   -0.581254   1.670307   0.671269 -1.851824  1.178612   \n",
       "4   -0.109637 -1.489355   -0.960897  -1.137191  -0.447840  1.316292 -0.035157   \n",
       "\n",
       "     region  district_code       lga  ...  public_meeting    permit  \\\n",
       "0 -1.153202      -0.065246 -0.256009  ...        0.305705 -1.548552   \n",
       "1 -0.141830      -0.376399  1.218788  ...        0.305705  0.645764   \n",
       "2 -0.310392      -0.168964  1.360596  ...        0.305705  0.645764   \n",
       "3  0.363855       5.950371  0.765005  ...        0.305705  0.645764   \n",
       "4 -0.984640      -0.480117 -0.965046  ...        0.305705  0.645764   \n",
       "\n",
       "   construction_year  extraction_type_group  management   payment  \\\n",
       "0           0.735593              -0.836318   -0.130260 -0.138378   \n",
       "1           0.747143              -0.836318    1.821369 -1.019824   \n",
       "2           0.746093              -0.836318   -0.130260  0.743068   \n",
       "3           0.721942               1.714363   -0.130260 -1.019824   \n",
       "4          -1.363441              -0.836318   -3.057703 -1.019824   \n",
       "\n",
       "   water_quality  quantity    source  waterpoint_type  \n",
       "0       0.273091 -0.405719  0.951664        -0.884097  \n",
       "1       0.273091  0.839667 -0.521454        -0.884097  \n",
       "2       0.273091 -0.405719 -2.976652        -0.323107  \n",
       "3       0.273091 -1.651105 -1.503533        -0.323107  \n",
       "4       0.273091  2.085053 -0.521454        -0.884097  \n",
       "\n",
       "[5 rows x 22 columns]"
      ]
     },
     "execution_count": 303,
     "metadata": {},
     "output_type": "execute_result"
    }
   ],
   "source": [
    "# scaled_feat=['amount_tsh', 'funder', 'gps_height', 'installer', 'longitude',\n",
    "#        'latitude', 'basin', 'region', 'district_code', 'lga', 'ward',\n",
    "#        'population', 'public_meeting', 'permit', 'construction_year',\n",
    "#        'extraction_type_group', 'management', 'payment', 'water_quality',\n",
    "#        'quantity', 'source', 'waterpoint_type']\n",
    "# scaler = StandardScaler()\n",
    "# scaler.fit(df.drop('status_group',axis=1))\n",
    "# scaled_features = scaler.transform(df.drop('status_group',axis=1))\n",
    "# scaled_features\n",
    "# df_feat1 = pd.DataFrame(scaled_features,columns=scaled_feat)\n",
    "# df_feat1.head()"
   ]
  },
  {
   "cell_type": "markdown",
   "id": "df557c61",
   "metadata": {},
   "source": [
    "#### Create PCA feature using selected 4 featuers"
   ]
  },
  {
   "cell_type": "code",
   "execution_count": 304,
   "id": "c5e6419d",
   "metadata": {},
   "outputs": [],
   "source": [
    "# from sklearn.decomposition import PCA \n",
    "# pca = PCA(n_components=1)\n",
    "# pca.fit(df_feat1)\n",
    "# x_pca = pca.transform(df_feat1)"
   ]
  },
  {
   "cell_type": "code",
   "execution_count": 99,
   "id": "16b13819",
   "metadata": {},
   "outputs": [],
   "source": [
    "# x_pca.shape"
   ]
  },
  {
   "cell_type": "code",
   "execution_count": 305,
   "id": "06bd24ab",
   "metadata": {},
   "outputs": [
    {
     "data": {
      "text/html": [
       "<div>\n",
       "<style scoped>\n",
       "    .dataframe tbody tr th:only-of-type {\n",
       "        vertical-align: middle;\n",
       "    }\n",
       "\n",
       "    .dataframe tbody tr th {\n",
       "        vertical-align: top;\n",
       "    }\n",
       "\n",
       "    .dataframe thead th {\n",
       "        text-align: right;\n",
       "    }\n",
       "</style>\n",
       "<table border=\"1\" class=\"dataframe\">\n",
       "  <thead>\n",
       "    <tr style=\"text-align: right;\">\n",
       "      <th></th>\n",
       "      <th>amount_tsh</th>\n",
       "      <th>funder</th>\n",
       "      <th>gps_height</th>\n",
       "      <th>installer</th>\n",
       "      <th>longitude</th>\n",
       "      <th>latitude</th>\n",
       "      <th>basin</th>\n",
       "      <th>region</th>\n",
       "      <th>district_code</th>\n",
       "      <th>lga</th>\n",
       "      <th>...</th>\n",
       "      <th>construction_year</th>\n",
       "      <th>extraction_type_group</th>\n",
       "      <th>management</th>\n",
       "      <th>payment</th>\n",
       "      <th>water_quality</th>\n",
       "      <th>quantity</th>\n",
       "      <th>source</th>\n",
       "      <th>waterpoint_type</th>\n",
       "      <th>status_group</th>\n",
       "      <th>0</th>\n",
       "    </tr>\n",
       "  </thead>\n",
       "  <tbody>\n",
       "    <tr>\n",
       "      <th>0</th>\n",
       "      <td>6000.0</td>\n",
       "      <td>1547</td>\n",
       "      <td>1390</td>\n",
       "      <td>1648</td>\n",
       "      <td>34.938093</td>\n",
       "      <td>-9.856322</td>\n",
       "      <td>1</td>\n",
       "      <td>3</td>\n",
       "      <td>5</td>\n",
       "      <td>51</td>\n",
       "      <td>...</td>\n",
       "      <td>1999</td>\n",
       "      <td>1</td>\n",
       "      <td>7</td>\n",
       "      <td>2</td>\n",
       "      <td>6</td>\n",
       "      <td>1</td>\n",
       "      <td>8</td>\n",
       "      <td>1</td>\n",
       "      <td>functional</td>\n",
       "      <td>1.756698</td>\n",
       "    </tr>\n",
       "    <tr>\n",
       "      <th>1</th>\n",
       "      <td>0.0</td>\n",
       "      <td>521</td>\n",
       "      <td>1399</td>\n",
       "      <td>571</td>\n",
       "      <td>34.698766</td>\n",
       "      <td>-2.147466</td>\n",
       "      <td>4</td>\n",
       "      <td>9</td>\n",
       "      <td>2</td>\n",
       "      <td>103</td>\n",
       "      <td>...</td>\n",
       "      <td>2010</td>\n",
       "      <td>1</td>\n",
       "      <td>11</td>\n",
       "      <td>0</td>\n",
       "      <td>6</td>\n",
       "      <td>2</td>\n",
       "      <td>5</td>\n",
       "      <td>1</td>\n",
       "      <td>functional</td>\n",
       "      <td>1.081373</td>\n",
       "    </tr>\n",
       "    <tr>\n",
       "      <th>2</th>\n",
       "      <td>25.0</td>\n",
       "      <td>923</td>\n",
       "      <td>686</td>\n",
       "      <td>2317</td>\n",
       "      <td>37.460664</td>\n",
       "      <td>-3.821329</td>\n",
       "      <td>5</td>\n",
       "      <td>8</td>\n",
       "      <td>4</td>\n",
       "      <td>108</td>\n",
       "      <td>...</td>\n",
       "      <td>2009</td>\n",
       "      <td>1</td>\n",
       "      <td>7</td>\n",
       "      <td>4</td>\n",
       "      <td>6</td>\n",
       "      <td>1</td>\n",
       "      <td>0</td>\n",
       "      <td>2</td>\n",
       "      <td>functional</td>\n",
       "      <td>0.827493</td>\n",
       "    </tr>\n",
       "    <tr>\n",
       "      <th>3</th>\n",
       "      <td>0.0</td>\n",
       "      <td>1960</td>\n",
       "      <td>263</td>\n",
       "      <td>2034</td>\n",
       "      <td>38.486161</td>\n",
       "      <td>-11.155298</td>\n",
       "      <td>7</td>\n",
       "      <td>12</td>\n",
       "      <td>63</td>\n",
       "      <td>87</td>\n",
       "      <td>...</td>\n",
       "      <td>1986</td>\n",
       "      <td>10</td>\n",
       "      <td>7</td>\n",
       "      <td>0</td>\n",
       "      <td>6</td>\n",
       "      <td>0</td>\n",
       "      <td>3</td>\n",
       "      <td>2</td>\n",
       "      <td>non functional</td>\n",
       "      <td>0.611763</td>\n",
       "    </tr>\n",
       "    <tr>\n",
       "      <th>4</th>\n",
       "      <td>0.0</td>\n",
       "      <td>19</td>\n",
       "      <td>0</td>\n",
       "      <td>131</td>\n",
       "      <td>31.130847</td>\n",
       "      <td>-1.825359</td>\n",
       "      <td>4</td>\n",
       "      <td>4</td>\n",
       "      <td>1</td>\n",
       "      <td>26</td>\n",
       "      <td>...</td>\n",
       "      <td>0</td>\n",
       "      <td>1</td>\n",
       "      <td>1</td>\n",
       "      <td>0</td>\n",
       "      <td>6</td>\n",
       "      <td>3</td>\n",
       "      <td>5</td>\n",
       "      <td>1</td>\n",
       "      <td>functional</td>\n",
       "      <td>-0.352617</td>\n",
       "    </tr>\n",
       "    <tr>\n",
       "      <th>...</th>\n",
       "      <td>...</td>\n",
       "      <td>...</td>\n",
       "      <td>...</td>\n",
       "      <td>...</td>\n",
       "      <td>...</td>\n",
       "      <td>...</td>\n",
       "      <td>...</td>\n",
       "      <td>...</td>\n",
       "      <td>...</td>\n",
       "      <td>...</td>\n",
       "      <td>...</td>\n",
       "      <td>...</td>\n",
       "      <td>...</td>\n",
       "      <td>...</td>\n",
       "      <td>...</td>\n",
       "      <td>...</td>\n",
       "      <td>...</td>\n",
       "      <td>...</td>\n",
       "      <td>...</td>\n",
       "      <td>...</td>\n",
       "      <td>...</td>\n",
       "    </tr>\n",
       "    <tr>\n",
       "      <th>74245</th>\n",
       "      <td>0.0</td>\n",
       "      <td>292</td>\n",
       "      <td>34</td>\n",
       "      <td>433</td>\n",
       "      <td>38.852669</td>\n",
       "      <td>-6.582841</td>\n",
       "      <td>8</td>\n",
       "      <td>14</td>\n",
       "      <td>1</td>\n",
       "      <td>3</td>\n",
       "      <td>...</td>\n",
       "      <td>1988</td>\n",
       "      <td>4</td>\n",
       "      <td>7</td>\n",
       "      <td>0</td>\n",
       "      <td>6</td>\n",
       "      <td>1</td>\n",
       "      <td>6</td>\n",
       "      <td>1</td>\n",
       "      <td>NaN</td>\n",
       "      <td>0.662617</td>\n",
       "    </tr>\n",
       "    <tr>\n",
       "      <th>74246</th>\n",
       "      <td>1000.0</td>\n",
       "      <td>583</td>\n",
       "      <td>0</td>\n",
       "      <td>628</td>\n",
       "      <td>37.451633</td>\n",
       "      <td>-5.350428</td>\n",
       "      <td>5</td>\n",
       "      <td>20</td>\n",
       "      <td>7</td>\n",
       "      <td>33</td>\n",
       "      <td>...</td>\n",
       "      <td>1994</td>\n",
       "      <td>5</td>\n",
       "      <td>7</td>\n",
       "      <td>2</td>\n",
       "      <td>4</td>\n",
       "      <td>2</td>\n",
       "      <td>7</td>\n",
       "      <td>4</td>\n",
       "      <td>NaN</td>\n",
       "      <td>-0.217779</td>\n",
       "    </tr>\n",
       "    <tr>\n",
       "      <th>74247</th>\n",
       "      <td>0.0</td>\n",
       "      <td>1972</td>\n",
       "      <td>1476</td>\n",
       "      <td>2035</td>\n",
       "      <td>34.739804</td>\n",
       "      <td>-4.585587</td>\n",
       "      <td>0</td>\n",
       "      <td>18</td>\n",
       "      <td>2</td>\n",
       "      <td>109</td>\n",
       "      <td>...</td>\n",
       "      <td>2010</td>\n",
       "      <td>1</td>\n",
       "      <td>7</td>\n",
       "      <td>0</td>\n",
       "      <td>6</td>\n",
       "      <td>2</td>\n",
       "      <td>0</td>\n",
       "      <td>1</td>\n",
       "      <td>NaN</td>\n",
       "      <td>0.318549</td>\n",
       "    </tr>\n",
       "    <tr>\n",
       "      <th>74248</th>\n",
       "      <td>0.0</td>\n",
       "      <td>481</td>\n",
       "      <td>998</td>\n",
       "      <td>419</td>\n",
       "      <td>35.432732</td>\n",
       "      <td>-10.584159</td>\n",
       "      <td>1</td>\n",
       "      <td>16</td>\n",
       "      <td>2</td>\n",
       "      <td>111</td>\n",
       "      <td>...</td>\n",
       "      <td>2009</td>\n",
       "      <td>1</td>\n",
       "      <td>7</td>\n",
       "      <td>0</td>\n",
       "      <td>6</td>\n",
       "      <td>2</td>\n",
       "      <td>6</td>\n",
       "      <td>1</td>\n",
       "      <td>NaN</td>\n",
       "      <td>1.409532</td>\n",
       "    </tr>\n",
       "    <tr>\n",
       "      <th>74249</th>\n",
       "      <td>0.0</td>\n",
       "      <td>506</td>\n",
       "      <td>481</td>\n",
       "      <td>594</td>\n",
       "      <td>34.765054</td>\n",
       "      <td>-11.226012</td>\n",
       "      <td>1</td>\n",
       "      <td>16</td>\n",
       "      <td>3</td>\n",
       "      <td>61</td>\n",
       "      <td>...</td>\n",
       "      <td>2008</td>\n",
       "      <td>1</td>\n",
       "      <td>7</td>\n",
       "      <td>0</td>\n",
       "      <td>6</td>\n",
       "      <td>0</td>\n",
       "      <td>8</td>\n",
       "      <td>1</td>\n",
       "      <td>NaN</td>\n",
       "      <td>1.084220</td>\n",
       "    </tr>\n",
       "  </tbody>\n",
       "</table>\n",
       "<p>74250 rows × 24 columns</p>\n",
       "</div>"
      ],
      "text/plain": [
       "       amount_tsh  funder  gps_height  installer  longitude   latitude  basin  \\\n",
       "0          6000.0    1547        1390       1648  34.938093  -9.856322      1   \n",
       "1             0.0     521        1399        571  34.698766  -2.147466      4   \n",
       "2            25.0     923         686       2317  37.460664  -3.821329      5   \n",
       "3             0.0    1960         263       2034  38.486161 -11.155298      7   \n",
       "4             0.0      19           0        131  31.130847  -1.825359      4   \n",
       "...           ...     ...         ...        ...        ...        ...    ...   \n",
       "74245         0.0     292          34        433  38.852669  -6.582841      8   \n",
       "74246      1000.0     583           0        628  37.451633  -5.350428      5   \n",
       "74247         0.0    1972        1476       2035  34.739804  -4.585587      0   \n",
       "74248         0.0     481         998        419  35.432732 -10.584159      1   \n",
       "74249         0.0     506         481        594  34.765054 -11.226012      1   \n",
       "\n",
       "       region  district_code  lga  ...  construction_year  \\\n",
       "0           3              5   51  ...               1999   \n",
       "1           9              2  103  ...               2010   \n",
       "2           8              4  108  ...               2009   \n",
       "3          12             63   87  ...               1986   \n",
       "4           4              1   26  ...                  0   \n",
       "...       ...            ...  ...  ...                ...   \n",
       "74245      14              1    3  ...               1988   \n",
       "74246      20              7   33  ...               1994   \n",
       "74247      18              2  109  ...               2010   \n",
       "74248      16              2  111  ...               2009   \n",
       "74249      16              3   61  ...               2008   \n",
       "\n",
       "       extraction_type_group  management  payment  water_quality  quantity  \\\n",
       "0                          1           7        2              6         1   \n",
       "1                          1          11        0              6         2   \n",
       "2                          1           7        4              6         1   \n",
       "3                         10           7        0              6         0   \n",
       "4                          1           1        0              6         3   \n",
       "...                      ...         ...      ...            ...       ...   \n",
       "74245                      4           7        0              6         1   \n",
       "74246                      5           7        2              4         2   \n",
       "74247                      1           7        0              6         2   \n",
       "74248                      1           7        0              6         2   \n",
       "74249                      1           7        0              6         0   \n",
       "\n",
       "       source  waterpoint_type    status_group         0  \n",
       "0           8                1      functional  1.756698  \n",
       "1           5                1      functional  1.081373  \n",
       "2           0                2      functional  0.827493  \n",
       "3           3                2  non functional  0.611763  \n",
       "4           5                1      functional -0.352617  \n",
       "...       ...              ...             ...       ...  \n",
       "74245       6                1             NaN  0.662617  \n",
       "74246       7                4             NaN -0.217779  \n",
       "74247       0                1             NaN  0.318549  \n",
       "74248       6                1             NaN  1.409532  \n",
       "74249       8                1             NaN  1.084220  \n",
       "\n",
       "[74250 rows x 24 columns]"
      ]
     },
     "execution_count": 305,
     "metadata": {},
     "output_type": "execute_result"
    }
   ],
   "source": [
    "# df_feat2=pd.DataFrame(x_pca) # combining PCA feature with 4 features selected\n",
    "# df_feat=df.join(df_feat2)\n",
    "# df_feat"
   ]
  },
  {
   "cell_type": "markdown",
   "id": "66d1a05d",
   "metadata": {},
   "source": [
    "#### Create cluster feature"
   ]
  },
  {
   "cell_type": "code",
   "execution_count": 317,
   "id": "b9203f01",
   "metadata": {},
   "outputs": [],
   "source": [
    "# Create cluster feature\n",
    "\n",
    "# kmeans = KMeans(n_clusters=10)\n",
    "# df[\"Cluster\"] = kmeans.fit_predict(X1)\n",
    "# df[\"Cluster\"] = df[\"Cluster\"].astype(\"category\")\n",
    "\n",
    "# df.status_group"
   ]
  },
  {
   "cell_type": "markdown",
   "id": "8be1954a",
   "metadata": {},
   "source": [
    "#### Creating train and test datasets"
   ]
  },
  {
   "cell_type": "code",
   "execution_count": 318,
   "id": "3b9be7b4",
   "metadata": {},
   "outputs": [
    {
     "data": {
      "text/plain": [
       "59400    NaN\n",
       "59401    NaN\n",
       "59402    NaN\n",
       "59403    NaN\n",
       "59404    NaN\n",
       "        ... \n",
       "74245    NaN\n",
       "74246    NaN\n",
       "74247    NaN\n",
       "74248    NaN\n",
       "74249    NaN\n",
       "Name: status_group, Length: 14850, dtype: object"
      ]
     },
     "execution_count": 318,
     "metadata": {},
     "output_type": "execute_result"
    }
   ],
   "source": [
    "X = df[:59400].copy()\n",
    "y=X.pop('status_group')\n",
    "y=train.status_group #uncomment if use correlation matrix and remove statues_group from cat_feat\n",
    "X_eval = df[59400:].copy()\n",
    "X_eval.pop('status_group')"
   ]
  },
  {
   "cell_type": "markdown",
   "id": "2c5088b4",
   "metadata": {},
   "source": [
    "#### Evaluating models\n",
    "#### 1. Random forest"
   ]
  },
  {
   "cell_type": "code",
   "execution_count": 312,
   "id": "b5f0fab6",
   "metadata": {},
   "outputs": [
    {
     "name": "stdout",
     "output_type": "stream",
     "text": [
      "mean_score 0.8115656565656566\n"
     ]
    },
    {
     "data": {
      "text/plain": [
       "0.8115656565656566"
      ]
     },
     "execution_count": 312,
     "metadata": {},
     "output_type": "execute_result"
    }
   ],
   "source": [
    "def get_acc_rf(X,y):\n",
    "    rf=RandomForestClassifier(criterion='gini',   \n",
    "                          min_samples_split=5,   \n",
    "                          min_samples_leaf=1,\n",
    "                          max_features='auto',\n",
    "                          oob_score=False,\n",
    "                          random_state=1,\n",
    "                           n_jobs=-1\n",
    "                          )\n",
    "    score=cross_val_score(rf,X,y,cv=5)\n",
    "    \n",
    "#   print(\"score\",score)\n",
    "    print(\"mean_score\",score.mean())\n",
    "    return score.mean()\n",
    "get_acc_rf(X,y)"
   ]
  },
  {
   "cell_type": "markdown",
   "id": "175a5cb7",
   "metadata": {},
   "source": [
    "#### 2. XGBoost"
   ]
  },
  {
   "cell_type": "code",
   "execution_count": 205,
   "id": "1edc2d05",
   "metadata": {},
   "outputs": [
    {
     "name": "stderr",
     "output_type": "stream",
     "text": [
      "C:\\Users\\CSE\\anaconda3\\envs\\tf\\lib\\site-packages\\xgboost\\sklearn.py:1146: UserWarning: The use of label encoder in XGBClassifier is deprecated and will be removed in a future release. To remove this warning, do the following: 1) Pass option use_label_encoder=False when constructing XGBClassifier object; and 2) Encode your labels (y) as integers starting with 0, i.e. 0, 1, 2, ..., [num_class - 1].\n",
      "  warnings.warn(label_encoder_deprecation_msg, UserWarning)\n"
     ]
    },
    {
     "name": "stdout",
     "output_type": "stream",
     "text": [
      "[20:05:50] WARNING: C:/Users/Administrator/workspace/xgboost-win64_release_1.4.0/src/learner.cc:1095: Starting in XGBoost 1.3.0, the default evaluation metric used with the objective 'multi:softprob' was changed from 'merror' to 'mlogloss'. Explicitly set eval_metric if you'd like to restore the old behavior.\n"
     ]
    },
    {
     "name": "stderr",
     "output_type": "stream",
     "text": [
      "C:\\Users\\CSE\\anaconda3\\envs\\tf\\lib\\site-packages\\xgboost\\sklearn.py:1146: UserWarning: The use of label encoder in XGBClassifier is deprecated and will be removed in a future release. To remove this warning, do the following: 1) Pass option use_label_encoder=False when constructing XGBClassifier object; and 2) Encode your labels (y) as integers starting with 0, i.e. 0, 1, 2, ..., [num_class - 1].\n",
      "  warnings.warn(label_encoder_deprecation_msg, UserWarning)\n"
     ]
    },
    {
     "name": "stdout",
     "output_type": "stream",
     "text": [
      "[20:06:17] WARNING: C:/Users/Administrator/workspace/xgboost-win64_release_1.4.0/src/learner.cc:1095: Starting in XGBoost 1.3.0, the default evaluation metric used with the objective 'multi:softprob' was changed from 'merror' to 'mlogloss'. Explicitly set eval_metric if you'd like to restore the old behavior.\n"
     ]
    },
    {
     "name": "stderr",
     "output_type": "stream",
     "text": [
      "C:\\Users\\CSE\\anaconda3\\envs\\tf\\lib\\site-packages\\xgboost\\sklearn.py:1146: UserWarning: The use of label encoder in XGBClassifier is deprecated and will be removed in a future release. To remove this warning, do the following: 1) Pass option use_label_encoder=False when constructing XGBClassifier object; and 2) Encode your labels (y) as integers starting with 0, i.e. 0, 1, 2, ..., [num_class - 1].\n",
      "  warnings.warn(label_encoder_deprecation_msg, UserWarning)\n"
     ]
    },
    {
     "name": "stdout",
     "output_type": "stream",
     "text": [
      "[20:06:48] WARNING: C:/Users/Administrator/workspace/xgboost-win64_release_1.4.0/src/learner.cc:1095: Starting in XGBoost 1.3.0, the default evaluation metric used with the objective 'multi:softprob' was changed from 'merror' to 'mlogloss'. Explicitly set eval_metric if you'd like to restore the old behavior.\n"
     ]
    },
    {
     "name": "stderr",
     "output_type": "stream",
     "text": [
      "C:\\Users\\CSE\\anaconda3\\envs\\tf\\lib\\site-packages\\xgboost\\sklearn.py:1146: UserWarning: The use of label encoder in XGBClassifier is deprecated and will be removed in a future release. To remove this warning, do the following: 1) Pass option use_label_encoder=False when constructing XGBClassifier object; and 2) Encode your labels (y) as integers starting with 0, i.e. 0, 1, 2, ..., [num_class - 1].\n",
      "  warnings.warn(label_encoder_deprecation_msg, UserWarning)\n"
     ]
    },
    {
     "name": "stdout",
     "output_type": "stream",
     "text": [
      "[20:07:16] WARNING: C:/Users/Administrator/workspace/xgboost-win64_release_1.4.0/src/learner.cc:1095: Starting in XGBoost 1.3.0, the default evaluation metric used with the objective 'multi:softprob' was changed from 'merror' to 'mlogloss'. Explicitly set eval_metric if you'd like to restore the old behavior.\n"
     ]
    },
    {
     "name": "stderr",
     "output_type": "stream",
     "text": [
      "C:\\Users\\CSE\\anaconda3\\envs\\tf\\lib\\site-packages\\xgboost\\sklearn.py:1146: UserWarning: The use of label encoder in XGBClassifier is deprecated and will be removed in a future release. To remove this warning, do the following: 1) Pass option use_label_encoder=False when constructing XGBClassifier object; and 2) Encode your labels (y) as integers starting with 0, i.e. 0, 1, 2, ..., [num_class - 1].\n",
      "  warnings.warn(label_encoder_deprecation_msg, UserWarning)\n"
     ]
    },
    {
     "name": "stdout",
     "output_type": "stream",
     "text": [
      "[20:07:43] WARNING: C:/Users/Administrator/workspace/xgboost-win64_release_1.4.0/src/learner.cc:1095: Starting in XGBoost 1.3.0, the default evaluation metric used with the objective 'multi:softprob' was changed from 'merror' to 'mlogloss'. Explicitly set eval_metric if you'd like to restore the old behavior.\n",
      "mean_score 0.583939393939394\n"
     ]
    },
    {
     "data": {
      "text/plain": [
       "0.583939393939394"
      ]
     },
     "execution_count": 205,
     "metadata": {},
     "output_type": "execute_result"
    }
   ],
   "source": [
    "import xgboost as xgb\n",
    "from sklearn.model_selection import cross_val_score\n",
    "\n",
    "def get_acc_xg(X,y):\n",
    "    xgboost=xgb.XGBClassifier(objective =\"multi:softmax\",\n",
    "                              colsample_bytree = 0.01,\n",
    "                              learning_rate = 0.001, max_depth = 6,\n",
    "                              alpha = 0.1,\n",
    "#                               num_class=, #number of classes\n",
    "                              n_estimators = 100 )\n",
    "    score=cross_val_score(xgboost,X,y,cv=5)\n",
    "    \n",
    "#     print(\"score\",score)\n",
    "    print(\"mean_score\",score.mean())\n",
    "    return score.mean()\n",
    "get_acc_xg(X,y)"
   ]
  },
  {
   "cell_type": "markdown",
   "id": "9dd4a8dd",
   "metadata": {},
   "source": [
    "#### 3. Cat boost"
   ]
  },
  {
   "cell_type": "code",
   "execution_count": 206,
   "id": "65dad914",
   "metadata": {},
   "outputs": [
    {
     "name": "stdout",
     "output_type": "stream",
     "text": [
      "mean_score 0.7774242424242425\n"
     ]
    }
   ],
   "source": [
    "cat=CatBoostClassifier( verbose=False, iterations=1500,\n",
    "    learning_rate=0.2053434310118264,\n",
    "    random_strength=8,\n",
    "    bagging_temperature=0,\n",
    "    max_bin=20,\n",
    "    grow_policy=\"Depthwise\",\n",
    "    min_data_in_leaf=10,\n",
    "    max_depth=3,\n",
    "    l2_leaf_reg=9.501510078266123e-06,\n",
    "    one_hot_max_size=500,\n",
    "    auto_class_weights=\"SqrtBalanced\")\n",
    "\n",
    "score=cross_val_score(cat,X,y,cv=5)\n",
    "print(\"mean_score\",score.mean())"
   ]
  },
  {
   "cell_type": "markdown",
   "id": "addba1d5",
   "metadata": {},
   "source": [
    "#### 4. KNN"
   ]
  },
  {
   "cell_type": "code",
   "execution_count": 215,
   "id": "c5749865",
   "metadata": {},
   "outputs": [
    {
     "name": "stdout",
     "output_type": "stream",
     "text": [
      "0.6755555555555556\n",
      "0.707979797979798\n",
      "0.7170202020202019\n",
      "0.7246127946127946\n",
      "0.7297138047138046\n",
      "0.7319023569023569\n",
      "0.7291582491582491\n",
      "0.7283333333333333\n",
      "0.7266666666666667\n",
      "0.7263131313131312\n",
      "0.7275757575757575\n",
      "0.7251515151515152\n",
      "0.7245454545454545\n",
      "0.7224915824915825\n",
      "0.7215656565656566\n",
      "0.7183164983164984\n",
      "0.7178619528619528\n",
      "0.7175084175084174\n",
      "0.717020202020202\n",
      "0.7162794612794613\n",
      "0.7149494949494949\n",
      "0.715016835016835\n",
      "0.713956228956229\n",
      "0.7117845117845117\n",
      "0.710976430976431\n",
      "0.7095959595959596\n",
      "0.7092592592592594\n",
      "0.7076936026936027\n",
      "0.7082154882154883\n",
      "0.7070707070707071\n",
      "0.7055723905723905\n",
      "0.70503367003367\n",
      "0.7029124579124579\n",
      "0.7027946127946127\n",
      "0.7008249158249158\n",
      "0.7001851851851852\n",
      "0.6998653198653197\n",
      "0.7003030303030303\n",
      "0.6986868686868687\n",
      "0.6983501683501684\n",
      "0.6974410774410774\n",
      "0.6970033670033671\n",
      "0.6964814814814815\n",
      "0.6968181818181818\n",
      "0.6953030303030303\n",
      "0.6947643097643097\n",
      "0.6941919191919192\n",
      "0.6926767676767677\n",
      "0.692020202020202\n"
     ]
    }
   ],
   "source": [
    "from sklearn.model_selection import cross_val_score\n",
    "\n",
    "accuracy_rate={}\n",
    "\n",
    "for i in range(1,50):\n",
    "    \n",
    "    knn = KNeighborsClassifier(n_neighbors=i)\n",
    "    score=cross_val_score(knn,X,y,cv=5)\n",
    "    accuracy_rate[i]=score.mean()\n",
    "    print(score.mean())"
   ]
  },
  {
   "cell_type": "markdown",
   "id": "5e27372e",
   "metadata": {},
   "source": [
    "### Creating submission file"
   ]
  },
  {
   "cell_type": "code",
   "execution_count": 233,
   "id": "5f41d09b",
   "metadata": {},
   "outputs": [
    {
     "data": {
      "text/plain": [
       "RandomForestClassifier(min_samples_split=5, n_jobs=-1, random_state=1)"
      ]
     },
     "execution_count": 233,
     "metadata": {},
     "output_type": "execute_result"
    }
   ],
   "source": [
    "rf=RandomForestClassifier(criterion='gini',   \n",
    "                          min_samples_split=5,\n",
    "                          min_samples_leaf=1,\n",
    "                          max_features='auto',\n",
    "                          oob_score=False,\n",
    "                          random_state=1,\n",
    "                           n_jobs=-1)\n",
    "rf.fit(X,y)"
   ]
  },
  {
   "cell_type": "code",
   "execution_count": 234,
   "id": "7d550edb",
   "metadata": {},
   "outputs": [
    {
     "data": {
      "text/plain": [
       "14850"
      ]
     },
     "execution_count": 234,
     "metadata": {},
     "output_type": "execute_result"
    }
   ],
   "source": [
    "pred=rf.predict(X_eval)\n",
    "sub_df=pd.read_csv(\"data/SubmissionFormat.csv\",index_col=\"id\")\n",
    "sub_df['status_group']=pred\n",
    "sub_df.to_csv(\"submission_file_final5.csv\")\n",
    "    \n",
    "# getSubmisionFile(clf,test_set) \n",
    "len(pred)"
   ]
  }
 ],
 "metadata": {
  "kernelspec": {
   "display_name": "Python 3",
   "language": "python",
   "name": "python3"
  },
  "language_info": {
   "codemirror_mode": {
    "name": "ipython",
    "version": 3
   },
   "file_extension": ".py",
   "mimetype": "text/x-python",
   "name": "python",
   "nbconvert_exporter": "python",
   "pygments_lexer": "ipython3",
   "version": "3.8.10"
  }
 },
 "nbformat": 4,
 "nbformat_minor": 5
}
